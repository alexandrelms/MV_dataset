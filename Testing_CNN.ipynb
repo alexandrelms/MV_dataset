{
 "cells": [
  {
   "cell_type": "code",
   "execution_count": 3,
   "metadata": {},
   "outputs": [],
   "source": [
    "import pandas as pd\n",
    "import numpy as np\n",
    "import os\n",
    "import tensorflow as tf\n",
    "import matplotlib.pyplot as plt\n",
    "from keras.preprocessing.image import load_img\n",
    "from keras.preprocessing.image import load_img\n",
    "from keras.preprocessing.image import save_img\n",
    "from keras.preprocessing.image import img_to_array\n",
    "from PIL import Image\n",
    "\n",
    "from tensorflow.keras import datasets, layers, models\n",
    "import matplotlib.pyplot as plt"
   ]
  },
  {
   "cell_type": "code",
   "execution_count": 15,
   "metadata": {},
   "outputs": [
    {
     "name": "stdout",
     "output_type": "stream",
     "text": [
      "(1, 32, 32, 3)\n",
      "WARNING:tensorflow:9 out of the last 9 calls to <function Model.make_predict_function.<locals>.predict_function at 0x000001A21C820820> triggered tf.function retracing. Tracing is expensive and the excessive number of tracings could be due to (1) creating @tf.function repeatedly in a loop, (2) passing tensors with different shapes, (3) passing Python objects instead of tensors. For (1), please define your @tf.function outside of the loop. For (2), @tf.function has experimental_relax_shapes=True option that relaxes argument shapes that can avoid unnecessary retracing. For (3), please refer to https://www.tensorflow.org/tutorials/customization/performance#python_or_tensor_args and https://www.tensorflow.org/api_docs/python/tf/function for  more details.\n",
      "[4]\n",
      "[[-10.198455    -4.8138843   -3.4566126    2.6387966   20.197271\n",
      "   -0.83416134 -10.764878   -40.4421     -43.110077   -40.25696   ]]\n"
     ]
    },
    {
     "data": {
      "image/png": "[encoded data removed]",
      "text/plain": [
       "<Figure size 432x288 with 1 Axes>"
      ]
     },
     "metadata": {
      "needs_background": "light"
     },
     "output_type": "display_data"
    }
   ],
   "source": [
    "from keras.models import load_model\n",
    "#import cv2\n",
    "import numpy as np\n",
    "\n",
    "model = load_model('R1_version_1.h5')\n",
    "\n",
    "#model.compile(optimizer='adam',\n",
    "              #loss=tf.keras.losses.SparseCategoricalCrossentropy(from_logits=True),\n",
    "              #metrics=['accuracy'])\n",
    "\n",
    "i = 2000\n",
    "        \n",
    "path_test = '/Users/Shadow/Desktop/Projet Machine Vision/counting/val/images/'\n",
    "        \n",
    "image_name = path_test + 'images_' + \"%05d\" % i + '.png'\n",
    "  \n",
    "image_i = Image.open(image_name)  \n",
    "\n",
    "plt.imshow(image_i)\n",
    "\n",
    "  #resize image\n",
    "new_image = image_i.resize((32, 32))\n",
    "\n",
    "  #conv array\n",
    "array_image = img_to_array(new_image)\n",
    "\n",
    "#resize to 0-1\n",
    "array_image = array_image / 255.0\n",
    "\n",
    "\n",
    "img = np.expand_dims(array_image, axis=0)\n",
    "\n",
    "print(img.shape)\n",
    "\n",
    " #img = np.reshape(img_to_array,[1,32,32,3])\n",
    "\n",
    "plt.imshow(img[0, :, :, :], cmap=plt.cm.binary)\n",
    "\n",
    "classes = model.predict_classes(img)\n",
    "classe = model.predict(img)\n",
    "\n",
    "print(classes)\n",
    "print(classe)"
   ]
  },
  {
   "cell_type": "code",
   "execution_count": null,
   "metadata": {},
   "outputs": [],
   "source": []
  }
 ],
 "metadata": {
  "kernelspec": {
   "display_name": "Python 3",
   "language": "python",
   "name": "python3"
  },
  "language_info": {
   "codemirror_mode": {
    "name": "ipython",
    "version": 3
   },
   "file_extension": ".py",
   "mimetype": "text/x-python",
   "name": "python",
   "nbconvert_exporter": "python",
   "pygments_lexer": "ipython3",
   "version": "3.8.6"
  }
 },
 "nbformat": 4,
 "nbformat_minor": 4
}
